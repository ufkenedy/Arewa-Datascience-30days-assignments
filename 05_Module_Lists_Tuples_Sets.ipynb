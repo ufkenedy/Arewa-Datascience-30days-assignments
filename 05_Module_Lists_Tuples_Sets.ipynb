{
  "nbformat": 4,
  "nbformat_minor": 0,
  "metadata": {
    "colab": {
      "provenance": [],
      "authorship_tag": "ABX9TyOE2Zey1jvfwoPSm94IWErv",
      "include_colab_link": true
    },
    "kernelspec": {
      "name": "python3",
      "display_name": "Python 3"
    },
    "language_info": {
      "name": "python"
    }
  },
  "cells": [
    {
      "cell_type": "markdown",
      "metadata": {
        "id": "view-in-github",
        "colab_type": "text"
      },
      "source": [
        "<a href=\"https://colab.research.google.com/github/ufkenedy/ArewaDS-Python-Exercises/blob/main/05_Module_Lists_Tuples_Sets.ipynb\" target=\"_parent\"><img src=\"https://colab.research.google.com/assets/colab-badge.svg\" alt=\"Open In Colab\"/></a>"
      ]
    },
    {
      "cell_type": "code",
      "source": [
        "\n",
        "### Tuple Exercises: Level 1\n",
        "\n",
        "1. #Create an empty tuple**\n",
        "\n",
        "empty_tuple = ()\n",
        "\n",
        "2. #*Create a tuple containing names of your sisters and your brothers**\n",
        "\n",
        "\n",
        "sisters = (\"Anna\", \"Bella\", \"Clara\")  # Imaginary names\n",
        "brothers = (\"David\", \"Edward\", \"Frank\")  # Imaginary names```\n",
        "\n",
        "3. #**Join brothers and sisters tuples and assign it to siblings**\n",
        "\n",
        "\n",
        "siblings = sisters + brothers\n",
        "\n",
        "\n",
        "4. #**How many siblings do you have?**\n",
        "\n",
        "number_of_siblings = len(siblings)\n",
        "print(number_of_siblings)\n",
        "\n",
        "\n",
        "5. #**Modify the siblings tuple and add the names of your father and mother and assign it to family_members**\n",
        "\n",
        "\n",
        "family_members = siblings + (\"Father\", \"Mother\")\n",
        "\n",
        "\n",
        "### Tuple Exercises: Level 2\n",
        "\n",
        "1. #**Unpack siblings and parents from family_members**\n",
        "\n",
        "\n",
        "*siblings_unpacked, father, mother = family_members\n",
        "print(siblings_unpacked)\n",
        "print(father)\n",
        "print(mother)\n",
        "\n",
        "\n",
        "2. #**Create fruits, vegetables, and animal products tuples. Join the three tuples and assign it to a variable called food_stuff_tp**\n",
        "\n",
        "\n",
        "fruits = (\"apple\", \"banana\", \"cherry\")\n",
        "vegetables = (\"carrot\", \"broccoli\", \"spinach\")\n",
        "animal_products = (\"milk\", \"eggs\", \"cheese\")\n",
        "food_stuff_tp = fruits + vegetables + animal_products\n",
        "\n",
        "\n",
        "3. #**Change the food_stuff_tp tuple to a food_stuff_lt list**\n",
        "\n",
        "\n",
        "food_stuff_lt = list(food_stuff_tp)\n",
        "\n",
        "\n",
        "4. #**Slice out the middle item or items from the food_stuff_tp tuple or food_stuff_lt list**\n",
        "\n",
        "\n",
        "middle_index = len(food_stuff_lt) // 2\n",
        "if len(food_stuff_lt) % 2 == 0:  # If even number of items\n",
        "    middle_items = food_stuff_lt[middle_index - 1:middle_index + 1]\n",
        "else:\n",
        "    middle_items = food_stuff_lt[middle_index]\n",
        "print(middle_items)\n",
        "\n",
        "\n",
        "5. #**Slice out the first three items and the last three items from food_stuff_lt list**\n",
        "\n",
        "\n",
        "first_three_items = food_stuff_lt[:3]\n",
        "last_three_items = food_stuff_lt[-3:]\n",
        "print(first_three_items)\n",
        "print(last_three_items)\n",
        "\n",
        "\n",
        "6. #**Delete the food_stuff_tp tuple completely**\n",
        "\n",
        "\n",
        "del food_stuff_tp\n",
        "\n",
        "\n",
        "7. #**Check if an item exists in tuple**\n",
        "\n",
        "    #Check if 'Estonia' is a Nordic country\n",
        "    #Check if 'Iceland' is a Nordic country\n",
        "\n",
        "\n",
        "nordic_countries = ('Denmark', 'Finland', 'Iceland', 'Norway', 'Sweden')\n",
        "print('Estonia' in nordic_countries)\n",
        "print('Iceland' in nordic_countries)\n"
      ],
      "metadata": {
        "colab": {
          "base_uri": "https://localhost:8080/"
        },
        "id": "mJyXxdkwxK6L",
        "outputId": "291d426f-1517-4543-b59b-944c42d53810"
      },
      "execution_count": 7,
      "outputs": [
        {
          "output_type": "stream",
          "name": "stdout",
          "text": [
            "6\n",
            "['Anna', 'Bella', 'Clara', 'David', 'Edward', 'Frank']\n",
            "Father\n",
            "Mother\n",
            "broccoli\n",
            "['apple', 'banana', 'cherry']\n",
            "['milk', 'eggs', 'cheese']\n",
            "False\n",
            "True\n"
          ]
        }
      ]
    }
  ]
}